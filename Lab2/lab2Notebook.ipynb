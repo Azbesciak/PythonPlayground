{
 "cells": [
  {
   "cell_type": "code",
   "execution_count": 32,
   "metadata": {
    "collapsed": true
   },
   "outputs": [],
   "source": [
    "# Trochę magii\n",
    "%matplotlib inline\n",
    "from matplotlib import pyplot as plt\n",
    "from sympy.interactive import printing\n",
    "printing.init_printing(use_latex=True)\n",
    "import numpy as np\n",
    "from __future__ import division\n",
    "import sympy as sym\n",
    "from sympy import *\n",
    "\n",
    "# Definicje zmiennych\n",
    "x, y, z = symbols(\"x y z\")\n",
    "k = Symbol(\"k\", integer=True)\n",
    "f = Function('f')\n"
   ]
  },
  {
   "cell_type": "code",
   "execution_count": 36,
   "metadata": {},
   "outputs": [
    {
     "data": {
      "image/png": "[encoded data removed]",
      "text/plain": [
       "<matplotlib.figure.Figure at 0x2634a522b38>"
      ]
     },
     "metadata": {},
     "output_type": "display_data"
    },
    {
     "data": {
      "text/latex": [
       "$$\\left\\{-3, 2, 4\\right\\}$$"
      ],
      "text/plain": [
       "{-3, 2, 4}"
      ]
     },
     "metadata": {},
     "output_type": "display_data"
    }
   ],
   "source": [
    "xRange = np.arange(-5, 5, 0.1)\n",
    "func = -(x ** 3) + 3 * x ** 2 + 10 * x - 24\n",
    "res = [func.subs(x, i).evalf() for i in xRange]\n",
    "plt.plot(xRange, res)\n",
    "plt.show()\n",
    "exp = solveset(func, x)\n",
    "exp"
   ]
  },
  {
   "cell_type": "code",
   "execution_count": 40,
   "metadata": {},
   "outputs": [],
   "source": [
    "fun1 = x**2 + 3*y - 10\n",
    "fun2 = 4*x - y**2 + 2\n",
    "sol = sym.solve([fun1, fun2])\n",
    "sol"
   ]
  },
  {
   "cell_type": "code",
   "execution_count": 41,
   "metadata": {},
   "outputs": [
    {
     "name": "stdout",
     "output_type": "stream",
     "text": [
      "x 1.35338582359163\ny 2.72278227083374\nx -3.12273673247333 - 1.62282840726831*I\ny 0.960695779699584 - 3.37844391858529*I\nx -3.12273673247333 + 1.62282840726831*I\ny 0.960695779699584 + 3.37844391858529*I\nx 4.89208764135504\ny -4.64417383023290\n"
     ]
    }
   ],
   "source": [
    "for s in sol:\n",
    "    for k, v in s.items():\n",
    "        print(k, v.evalf())"
   ]
  },
  {
   "cell_type": "code",
   "execution_count": 43,
   "metadata": {},
   "outputs": [
    {
     "data": {
      "text/latex": [
       "$$\\frac{d}{d x}\\left(\\frac{1}{x} \\sin{\\left (\\frac{\\log{\\left (x \\right )}}{\\log{\\left (2 \\right )}} \\right )} \\cos{\\left (x^{2} \\right )}\\right)$$"
      ],
      "text/plain": [
       "  ⎛   ⎛log(x)⎞    ⎛ 2⎞⎞\n  ⎜sin⎜──────⎟⋅cos⎝x ⎠⎟\nd ⎜   ⎝log(2)⎠        ⎟\n──⎜───────────────────⎟\ndx⎝         x         ⎠"
      ]
     },
     "metadata": {},
     "output_type": "display_data"
    }
   ],
   "source": [
    "fun5 = sin(log(x, 2)) * cos(x**2)/x\n",
    "Derivative(fun5)"
   ]
  },
  {
   "cell_type": "code",
   "execution_count": 47,
   "metadata": {},
   "outputs": [
    {
     "data": {
      "text/plain": [
       "array([[1, 3, 1, 2],\n       [1, 2, 5, 8],\n       [3, 1, 2, 9],\n       [5, 4, 2, 1]])"
      ]
     },
     "execution_count": 47,
     "metadata": {},
     "output_type": "execute_result"
    }
   ],
   "source": [
    "mat = np.array([[1, 3, 1, 2],\n",
    "       [1, 2, 5, 8],\n",
    "       [3, 1, 2, 9],\n",
    "       [5, 4, 2, 1]])\n",
    "mat\n"
   ]
  },
  {
   "cell_type": "code",
   "execution_count": 55,
   "metadata": {},
   "outputs": [
    {
     "data": {
      "text/plain": [
       "array([[1, 2, 5],\n       [3, 1, 2]])"
      ]
     },
     "execution_count": 55,
     "metadata": {},
     "output_type": "execute_result"
    }
   ],
   "source": [
    "mat1 = mat[1:3,0:3]\n",
    "mat1"
   ]
  },
  {
   "cell_type": "code",
   "execution_count": 50,
   "metadata": {},
   "outputs": [
    {
     "data": {
      "text/plain": [
       "array([[2, 3, 1],\n       [5, 1, 3]])"
      ]
     },
     "execution_count": 50,
     "metadata": {},
     "output_type": "execute_result"
    }
   ],
   "source": [
    "mat2 = np.array([[2, 3, 1],\n",
    "                 [5, 1, 3]])\n",
    "mat2\n"
   ]
  },
  {
   "cell_type": "code",
   "execution_count": 56,
   "metadata": {},
   "outputs": [
    {
     "data": {
      "text/plain": [
       "array([[2, 5],\n       [3, 1],\n       [1, 3]])"
      ]
     },
     "execution_count": 56,
     "metadata": {},
     "output_type": "execute_result"
    }
   ],
   "source": [
    "mat2T = mat2.T\n",
    "mat2T"
   ]
  },
  {
   "cell_type": "code",
   "execution_count": 59,
   "metadata": {},
   "outputs": [
    {
     "data": {
      "text/plain": [
       "array([[13, 22],\n       [11, 22]])"
      ]
     },
     "execution_count": 59,
     "metadata": {},
     "output_type": "execute_result"
    }
   ],
   "source": [
    "mat3 = mat1.dot(mat2T)\n",
    "mat3"
   ]
  },
  {
   "cell_type": "code",
   "execution_count": 65,
   "metadata": {},
   "outputs": [
    {
     "data": {
      "image/png": "[encoded data removed]",
      "text/plain": [
       "<matplotlib.figure.Figure at 0x2634aa6fb70>"
      ]
     },
     "metadata": {},
     "output_type": "display_data"
    }
   ],
   "source": [
    "interval = [1, 5, 50]\n",
    "xVals = [np.arange(-np.pi, np.pi, np.pi / i) for i in interval]\n",
    "[plt.plot(val, np.sin(val)) for val in xVals]\n",
    "plt.grid(True)\n",
    "plt.show()\n",
    "\n"
   ]
  }
 ],
 "metadata": {
  "kernelspec": {
   "display_name": "Python 2",
   "language": "python",
   "name": "python2"
  },
  "language_info": {
   "codemirror_mode": {
    "name": "ipython",
    "version": 2
   },
   "file_extension": ".py",
   "mimetype": "text/x-python",
   "name": "python",
   "nbconvert_exporter": "python",
   "pygments_lexer": "ipython2",
   "version": "2.7.6"
  }
 },
 "nbformat": 4,
 "nbformat_minor": 0
}
